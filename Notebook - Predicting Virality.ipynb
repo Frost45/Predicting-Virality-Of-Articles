{
 "cells": [
  {
   "cell_type": "markdown",
   "metadata": {},
   "source": [
    "## All Imports"
   ]
  },
  {
   "cell_type": "code",
   "execution_count": 1,
   "metadata": {},
   "outputs": [],
   "source": [
    "# Cell for all imports\n",
    "\n",
    "import pandas as pd\n",
    "import numpy as np\n",
    "\n",
    "from sklearn.decomposition import PCA\n",
    "from sklearn.preprocessing import StandardScaler\n",
    "from sklearn.model_selection import train_test_split\n",
    "from sklearn.model_selection import KFold\n",
    "from sklearn.linear_model import LassoCV\n",
    "from sklearn.metrics import mean_squared_error\n",
    "from sklearn.metrics import r2_score\n",
    "\n",
    "from matplotlib import pyplot as plt\n",
    "from urllib.parse import urlparse"
   ]
  },
  {
   "cell_type": "markdown",
   "metadata": {},
   "source": [
    "## Reading and Exploring the Data"
   ]
  },
  {
   "cell_type": "code",
   "execution_count": 2,
   "metadata": {},
   "outputs": [],
   "source": [
    "# Read data into dataframes\n",
    "\n",
    "shared_articles_df = pd.read_csv('shared_articles.csv')\n",
    "user_interactions_df = pd.read_csv('users_interactions.csv')"
   ]
  },
  {
   "cell_type": "code",
   "execution_count": 3,
   "metadata": {},
   "outputs": [
    {
     "data": {
      "text/html": [
       "<div>\n",
       "<style scoped>\n",
       "    .dataframe tbody tr th:only-of-type {\n",
       "        vertical-align: middle;\n",
       "    }\n",
       "\n",
       "    .dataframe tbody tr th {\n",
       "        vertical-align: top;\n",
       "    }\n",
       "\n",
       "    .dataframe thead th {\n",
       "        text-align: right;\n",
       "    }\n",
       "</style>\n",
       "<table border=\"1\" class=\"dataframe\">\n",
       "  <thead>\n",
       "    <tr style=\"text-align: right;\">\n",
       "      <th></th>\n",
       "      <th>timestamp</th>\n",
       "      <th>eventType</th>\n",
       "      <th>contentId</th>\n",
       "      <th>authorPersonId</th>\n",
       "      <th>authorSessionId</th>\n",
       "      <th>authorUserAgent</th>\n",
       "      <th>authorRegion</th>\n",
       "      <th>authorCountry</th>\n",
       "      <th>contentType</th>\n",
       "      <th>url</th>\n",
       "      <th>title</th>\n",
       "      <th>text</th>\n",
       "      <th>lang</th>\n",
       "    </tr>\n",
       "  </thead>\n",
       "  <tbody>\n",
       "    <tr>\n",
       "      <th>0</th>\n",
       "      <td>1459192779</td>\n",
       "      <td>CONTENT REMOVED</td>\n",
       "      <td>-6451309518266745024</td>\n",
       "      <td>4340306774493623681</td>\n",
       "      <td>8940341205206233829</td>\n",
       "      <td>NaN</td>\n",
       "      <td>NaN</td>\n",
       "      <td>NaN</td>\n",
       "      <td>HTML</td>\n",
       "      <td>http://www.nytimes.com/2016/03/28/business/dea...</td>\n",
       "      <td>Ethereum, a Virtual Currency, Enables Transact...</td>\n",
       "      <td>All of this work is still very early. The firs...</td>\n",
       "      <td>en</td>\n",
       "    </tr>\n",
       "    <tr>\n",
       "      <th>1</th>\n",
       "      <td>1459193988</td>\n",
       "      <td>CONTENT SHARED</td>\n",
       "      <td>-4110354420726924665</td>\n",
       "      <td>4340306774493623681</td>\n",
       "      <td>8940341205206233829</td>\n",
       "      <td>NaN</td>\n",
       "      <td>NaN</td>\n",
       "      <td>NaN</td>\n",
       "      <td>HTML</td>\n",
       "      <td>http://www.nytimes.com/2016/03/28/business/dea...</td>\n",
       "      <td>Ethereum, a Virtual Currency, Enables Transact...</td>\n",
       "      <td>All of this work is still very early. The firs...</td>\n",
       "      <td>en</td>\n",
       "    </tr>\n",
       "    <tr>\n",
       "      <th>2</th>\n",
       "      <td>1459194146</td>\n",
       "      <td>CONTENT SHARED</td>\n",
       "      <td>-7292285110016212249</td>\n",
       "      <td>4340306774493623681</td>\n",
       "      <td>8940341205206233829</td>\n",
       "      <td>NaN</td>\n",
       "      <td>NaN</td>\n",
       "      <td>NaN</td>\n",
       "      <td>HTML</td>\n",
       "      <td>http://cointelegraph.com/news/bitcoin-future-w...</td>\n",
       "      <td>Bitcoin Future: When GBPcoin of Branson Wins O...</td>\n",
       "      <td>The alarm clock wakes me at 8:00 with stream o...</td>\n",
       "      <td>en</td>\n",
       "    </tr>\n",
       "    <tr>\n",
       "      <th>3</th>\n",
       "      <td>1459194474</td>\n",
       "      <td>CONTENT SHARED</td>\n",
       "      <td>-6151852268067518688</td>\n",
       "      <td>3891637997717104548</td>\n",
       "      <td>-1457532940883382585</td>\n",
       "      <td>NaN</td>\n",
       "      <td>NaN</td>\n",
       "      <td>NaN</td>\n",
       "      <td>HTML</td>\n",
       "      <td>https://cloudplatform.googleblog.com/2016/03/G...</td>\n",
       "      <td>Google Data Center 360° Tour</td>\n",
       "      <td>We're excited to share the Google Data Center ...</td>\n",
       "      <td>en</td>\n",
       "    </tr>\n",
       "    <tr>\n",
       "      <th>4</th>\n",
       "      <td>1459194497</td>\n",
       "      <td>CONTENT SHARED</td>\n",
       "      <td>2448026894306402386</td>\n",
       "      <td>4340306774493623681</td>\n",
       "      <td>8940341205206233829</td>\n",
       "      <td>NaN</td>\n",
       "      <td>NaN</td>\n",
       "      <td>NaN</td>\n",
       "      <td>HTML</td>\n",
       "      <td>https://bitcoinmagazine.com/articles/ibm-wants...</td>\n",
       "      <td>IBM Wants to \"Evolve the Internet\" With Blockc...</td>\n",
       "      <td>The Aite Group projects the blockchain market ...</td>\n",
       "      <td>en</td>\n",
       "    </tr>\n",
       "  </tbody>\n",
       "</table>\n",
       "</div>"
      ],
      "text/plain": [
       "    timestamp        eventType            contentId       authorPersonId  \\\n",
       "0  1459192779  CONTENT REMOVED -6451309518266745024  4340306774493623681   \n",
       "1  1459193988   CONTENT SHARED -4110354420726924665  4340306774493623681   \n",
       "2  1459194146   CONTENT SHARED -7292285110016212249  4340306774493623681   \n",
       "3  1459194474   CONTENT SHARED -6151852268067518688  3891637997717104548   \n",
       "4  1459194497   CONTENT SHARED  2448026894306402386  4340306774493623681   \n",
       "\n",
       "       authorSessionId authorUserAgent authorRegion authorCountry contentType  \\\n",
       "0  8940341205206233829             NaN          NaN           NaN        HTML   \n",
       "1  8940341205206233829             NaN          NaN           NaN        HTML   \n",
       "2  8940341205206233829             NaN          NaN           NaN        HTML   \n",
       "3 -1457532940883382585             NaN          NaN           NaN        HTML   \n",
       "4  8940341205206233829             NaN          NaN           NaN        HTML   \n",
       "\n",
       "                                                 url  \\\n",
       "0  http://www.nytimes.com/2016/03/28/business/dea...   \n",
       "1  http://www.nytimes.com/2016/03/28/business/dea...   \n",
       "2  http://cointelegraph.com/news/bitcoin-future-w...   \n",
       "3  https://cloudplatform.googleblog.com/2016/03/G...   \n",
       "4  https://bitcoinmagazine.com/articles/ibm-wants...   \n",
       "\n",
       "                                               title  \\\n",
       "0  Ethereum, a Virtual Currency, Enables Transact...   \n",
       "1  Ethereum, a Virtual Currency, Enables Transact...   \n",
       "2  Bitcoin Future: When GBPcoin of Branson Wins O...   \n",
       "3                       Google Data Center 360° Tour   \n",
       "4  IBM Wants to \"Evolve the Internet\" With Blockc...   \n",
       "\n",
       "                                                text lang  \n",
       "0  All of this work is still very early. The firs...   en  \n",
       "1  All of this work is still very early. The firs...   en  \n",
       "2  The alarm clock wakes me at 8:00 with stream o...   en  \n",
       "3  We're excited to share the Google Data Center ...   en  \n",
       "4  The Aite Group projects the blockchain market ...   en  "
      ]
     },
     "execution_count": 3,
     "metadata": {},
     "output_type": "execute_result"
    }
   ],
   "source": [
    "# Print shared_articles_df head\n",
    "\n",
    "shared_articles_df.head()"
   ]
  },
  {
   "cell_type": "code",
   "execution_count": 4,
   "metadata": {},
   "outputs": [
    {
     "data": {
      "text/html": [
       "<div>\n",
       "<style scoped>\n",
       "    .dataframe tbody tr th:only-of-type {\n",
       "        vertical-align: middle;\n",
       "    }\n",
       "\n",
       "    .dataframe tbody tr th {\n",
       "        vertical-align: top;\n",
       "    }\n",
       "\n",
       "    .dataframe thead th {\n",
       "        text-align: right;\n",
       "    }\n",
       "</style>\n",
       "<table border=\"1\" class=\"dataframe\">\n",
       "  <thead>\n",
       "    <tr style=\"text-align: right;\">\n",
       "      <th></th>\n",
       "      <th>timestamp</th>\n",
       "      <th>eventType</th>\n",
       "      <th>contentId</th>\n",
       "      <th>personId</th>\n",
       "      <th>sessionId</th>\n",
       "      <th>userAgent</th>\n",
       "      <th>userRegion</th>\n",
       "      <th>userCountry</th>\n",
       "    </tr>\n",
       "  </thead>\n",
       "  <tbody>\n",
       "    <tr>\n",
       "      <th>0</th>\n",
       "      <td>1465413032</td>\n",
       "      <td>VIEW</td>\n",
       "      <td>-3499919498720038879</td>\n",
       "      <td>-8845298781299428018</td>\n",
       "      <td>1264196770339959068</td>\n",
       "      <td>NaN</td>\n",
       "      <td>NaN</td>\n",
       "      <td>NaN</td>\n",
       "    </tr>\n",
       "    <tr>\n",
       "      <th>1</th>\n",
       "      <td>1465412560</td>\n",
       "      <td>VIEW</td>\n",
       "      <td>8890720798209849691</td>\n",
       "      <td>-1032019229384696495</td>\n",
       "      <td>3621737643587579081</td>\n",
       "      <td>Mozilla/5.0 (Macintosh; Intel Mac OS X 10_11_2...</td>\n",
       "      <td>NY</td>\n",
       "      <td>US</td>\n",
       "    </tr>\n",
       "    <tr>\n",
       "      <th>2</th>\n",
       "      <td>1465416190</td>\n",
       "      <td>VIEW</td>\n",
       "      <td>310515487419366995</td>\n",
       "      <td>-1130272294246983140</td>\n",
       "      <td>2631864456530402479</td>\n",
       "      <td>NaN</td>\n",
       "      <td>NaN</td>\n",
       "      <td>NaN</td>\n",
       "    </tr>\n",
       "    <tr>\n",
       "      <th>3</th>\n",
       "      <td>1465413895</td>\n",
       "      <td>FOLLOW</td>\n",
       "      <td>310515487419366995</td>\n",
       "      <td>344280948527967603</td>\n",
       "      <td>-3167637573980064150</td>\n",
       "      <td>NaN</td>\n",
       "      <td>NaN</td>\n",
       "      <td>NaN</td>\n",
       "    </tr>\n",
       "    <tr>\n",
       "      <th>4</th>\n",
       "      <td>1465412290</td>\n",
       "      <td>VIEW</td>\n",
       "      <td>-7820640624231356730</td>\n",
       "      <td>-445337111692715325</td>\n",
       "      <td>5611481178424124714</td>\n",
       "      <td>NaN</td>\n",
       "      <td>NaN</td>\n",
       "      <td>NaN</td>\n",
       "    </tr>\n",
       "  </tbody>\n",
       "</table>\n",
       "</div>"
      ],
      "text/plain": [
       "    timestamp eventType            contentId             personId  \\\n",
       "0  1465413032      VIEW -3499919498720038879 -8845298781299428018   \n",
       "1  1465412560      VIEW  8890720798209849691 -1032019229384696495   \n",
       "2  1465416190      VIEW   310515487419366995 -1130272294246983140   \n",
       "3  1465413895    FOLLOW   310515487419366995   344280948527967603   \n",
       "4  1465412290      VIEW -7820640624231356730  -445337111692715325   \n",
       "\n",
       "             sessionId                                          userAgent  \\\n",
       "0  1264196770339959068                                                NaN   \n",
       "1  3621737643587579081  Mozilla/5.0 (Macintosh; Intel Mac OS X 10_11_2...   \n",
       "2  2631864456530402479                                                NaN   \n",
       "3 -3167637573980064150                                                NaN   \n",
       "4  5611481178424124714                                                NaN   \n",
       "\n",
       "  userRegion userCountry  \n",
       "0        NaN         NaN  \n",
       "1         NY          US  \n",
       "2        NaN         NaN  \n",
       "3        NaN         NaN  \n",
       "4        NaN         NaN  "
      ]
     },
     "execution_count": 4,
     "metadata": {},
     "output_type": "execute_result"
    }
   ],
   "source": [
    "# Print user_interactions_df head\n",
    "\n",
    "user_interactions_df.head()"
   ]
  },
  {
   "cell_type": "code",
   "execution_count": 5,
   "metadata": {},
   "outputs": [
    {
     "name": "stdout",
     "output_type": "stream",
     "text": [
      "Number of rows in shared_articles_df:  3122\n",
      "Number of rows in user_interactions_df:  72312\n"
     ]
    }
   ],
   "source": [
    "# Number of rows in both dataframes\n",
    "\n",
    "print(\"Number of rows in shared_articles_df: \", len(shared_articles_df))\n",
    "print(\"Number of rows in user_interactions_df: \", len(user_interactions_df))"
   ]
  },
  {
   "cell_type": "code",
   "execution_count": 6,
   "metadata": {},
   "outputs": [
    {
     "name": "stdout",
     "output_type": "stream",
     "text": [
      "Shared Articles Dataframe: \n",
      "\n",
      "timestamp          3122\n",
      "eventType          3122\n",
      "contentId          3122\n",
      "authorPersonId     3122\n",
      "authorSessionId    3122\n",
      "authorUserAgent     680\n",
      "authorRegion        680\n",
      "authorCountry       680\n",
      "contentType        3122\n",
      "url                3122\n",
      "title              3122\n",
      "text               3122\n",
      "lang               3122\n",
      "dtype: int64 \n",
      "\n",
      "\n",
      "User Interactions Dataframe: \n",
      "\n",
      "timestamp      72312\n",
      "eventType      72312\n",
      "contentId      72312\n",
      "personId       72312\n",
      "sessionId      72312\n",
      "userAgent      56918\n",
      "userRegion     56907\n",
      "userCountry    56918\n",
      "dtype: int64\n"
     ]
    }
   ],
   "source": [
    "# See number of rows with non-NA values in both dataframes in each column\n",
    "\n",
    "print(\"Shared Articles Dataframe: \\n\")\n",
    "print(shared_articles_df.count(), \"\\n\\n\")\n",
    "print(\"User Interactions Dataframe: \\n\")\n",
    "print(user_interactions_df.count())"
   ]
  },
  {
   "cell_type": "markdown",
   "metadata": {},
   "source": [
    "In general, I do not think that the device/browser used to either share the article on the platform in the first place, or interact with it, will have any impact on it going viral. Moreover, these are columns with a large number of NA values. Therefore, I feel that I can drop these from my dataframes."
   ]
  },
  {
   "cell_type": "code",
   "execution_count": 7,
   "metadata": {},
   "outputs": [],
   "source": [
    "# Dropping userAgent and authorUserAgent columns\n",
    "\n",
    "shared_articles_df.drop(columns='authorUserAgent', inplace=True)\n",
    "user_interactions_df.drop(columns='userAgent', inplace=True)"
   ]
  },
  {
   "cell_type": "code",
   "execution_count": 8,
   "metadata": {},
   "outputs": [
    {
     "name": "stdout",
     "output_type": "stream",
     "text": [
      "Number of rows in content_shared_df:  3047\n",
      "Number of rows in content_removed_df:  75\n"
     ]
    }
   ],
   "source": [
    "# Split the shared_articles dataframe into two dataframes - one with content that has been shared \n",
    "# and other with content that has been removed.\n",
    "\n",
    "# Contains all rows with eventType = \"CONTENT SHARED\"\n",
    "content_shared_df = shared_articles_df[shared_articles_df['eventType'].str.contains(\"SHARED\")]\n",
    "print(\"Number of rows in content_shared_df: \", len(content_shared_df))\n",
    "\n",
    "# Contains all rows with eventType = \"CONTENT REMOVED\"\n",
    "content_removed_df = shared_articles_df[shared_articles_df['eventType'].str.contains(\"REMOVED\")]\n",
    "print(\"Number of rows in content_removed_df: \", len(content_removed_df))"
   ]
  },
  {
   "cell_type": "markdown",
   "metadata": {},
   "source": [
    "Since 2.4% of the rows have eventType \"CONTENT REMOVED\" and it does not make sense to check the virality of articles that are not on the platform, we will only consider the articles that are in the content_shared_df dataframe."
   ]
  },
  {
   "cell_type": "markdown",
   "metadata": {},
   "source": [
    "Generating a new feature to see if time spent on platform has any effect on virality.\n",
    "\n",
    "To find this, I subtracted the timestamp at which content was shared from when the content was removed. If the article does not have event type \"CONTENT REMOVED\", I used 31st December 2017 11:59:59 PM GMT as the default timestamp (in reality, current timestamp would be used for an updated dataset) as the dataset was last updated three years ago on Kaggle."
   ]
  },
  {
   "cell_type": "code",
   "execution_count": 9,
   "metadata": {},
   "outputs": [],
   "source": [
    "join_df = content_shared_df.merge(content_removed_df, how='left', \n",
    "                                  on=['contentId', 'authorPersonId', 'contentType', 'url', 'text', 'lang'])"
   ]
  },
  {
   "cell_type": "code",
   "execution_count": 10,
   "metadata": {},
   "outputs": [
    {
     "data": {
      "text/plain": [
       "timestamp_x          3048\n",
       "eventType_x          3048\n",
       "contentId            3048\n",
       "authorPersonId       3048\n",
       "authorSessionId_x    3048\n",
       "authorRegion_x        670\n",
       "authorCountry_x       670\n",
       "contentType          3048\n",
       "url                  3048\n",
       "title_x              3048\n",
       "text                 3048\n",
       "lang                 3048\n",
       "timestamp_y            65\n",
       "eventType_y            65\n",
       "authorSessionId_y      65\n",
       "authorRegion_y         11\n",
       "authorCountry_y        11\n",
       "title_y                65\n",
       "dtype: int64"
      ]
     },
     "execution_count": 10,
     "metadata": {},
     "output_type": "execute_result"
    }
   ],
   "source": [
    "# Replacing any NaN Author Regions/Countries in content_shared_df with values from content_removed_df\n",
    "\n",
    "join_df.authorRegion_x.fillna(join_df.authorRegion_y, inplace=True)\n",
    "join_df.authorCountry_x.fillna(join_df.authorCountry_y, inplace=True)\n",
    "join_df.count()"
   ]
  },
  {
   "cell_type": "code",
   "execution_count": 11,
   "metadata": {
    "scrolled": true
   },
   "outputs": [],
   "source": [
    "# Replacing all NaN values in timestamp_y column (timestamp at which article was removed) with 1514764799\n",
    "# which is the epoch timestamp for 31st December 2017 11:59:59 PM GMT\n",
    "\n",
    "join_df.timestamp_y.fillna(1514764799, inplace=True)"
   ]
  },
  {
   "cell_type": "code",
   "execution_count": 12,
   "metadata": {},
   "outputs": [],
   "source": [
    "# Creating timeOnPlatform column\n",
    "\n",
    "join_df['timeOnPlatform'] = join_df['timestamp_y'] - join_df['timestamp_x']"
   ]
  },
  {
   "cell_type": "code",
   "execution_count": 13,
   "metadata": {},
   "outputs": [],
   "source": [
    "# Dropping irrelevant columns\n",
    "\n",
    "# authorSessionId_x, eventType_x and eventType_y - not needed as this won't affect virality\n",
    "# timestamp_x and timestamp_y - not needed as timeOnPlatform column has been created\n",
    "# authorSessionId_y, authorRegion_y, authorCountry_y, title_y - not needed as these are basically duplicate columns\n",
    "\n",
    "join_df.drop(columns=['authorSessionId_x', 'eventType_x', 'eventType_y', 'timestamp_x', 'timestamp_y', 'authorSessionId_y', \n",
    "                     'authorRegion_y', 'authorCountry_y', 'title_y'], inplace=True)"
   ]
  },
  {
   "cell_type": "code",
   "execution_count": 14,
   "metadata": {},
   "outputs": [],
   "source": [
    "# Renaming columns ending with _x\n",
    "\n",
    "join_df.rename(columns={\"authorRegion_x\": \"authorRegion\", \"authorCountry_x\": \"authorCountry\", \"title_x\": \"title\"}, inplace=True)"
   ]
  },
  {
   "cell_type": "code",
   "execution_count": 15,
   "metadata": {},
   "outputs": [
    {
     "name": "stdout",
     "output_type": "stream",
     "text": [
      "SP    525\n",
      "Name: authorRegion, dtype: int64\n",
      "BR    603\n",
      "Name: authorCountry, dtype: int64\n"
     ]
    }
   ],
   "source": [
    "# Replacing NaN values in authorRegion and authorCountry with most common value of the column\n",
    "\n",
    "print(join_df['authorRegion'].value_counts()[:1])\n",
    "print(join_df['authorCountry'].value_counts()[:1])\n",
    "\n",
    "join_df.authorRegion.fillna(\"SP\", inplace=True)\n",
    "join_df.authorCountry.fillna(\"BR\", inplace=True)"
   ]
  },
  {
   "cell_type": "code",
   "execution_count": 16,
   "metadata": {},
   "outputs": [
    {
     "data": {
      "text/html": [
       "<div>\n",
       "<style scoped>\n",
       "    .dataframe tbody tr th:only-of-type {\n",
       "        vertical-align: middle;\n",
       "    }\n",
       "\n",
       "    .dataframe tbody tr th {\n",
       "        vertical-align: top;\n",
       "    }\n",
       "\n",
       "    .dataframe thead th {\n",
       "        text-align: right;\n",
       "    }\n",
       "</style>\n",
       "<table border=\"1\" class=\"dataframe\">\n",
       "  <thead>\n",
       "    <tr style=\"text-align: right;\">\n",
       "      <th></th>\n",
       "      <th>contentId</th>\n",
       "      <th>authorPersonId</th>\n",
       "      <th>authorRegion</th>\n",
       "      <th>authorCountry</th>\n",
       "      <th>contentType</th>\n",
       "      <th>url</th>\n",
       "      <th>title</th>\n",
       "      <th>text</th>\n",
       "      <th>lang</th>\n",
       "      <th>timeOnPlatform</th>\n",
       "    </tr>\n",
       "  </thead>\n",
       "  <tbody>\n",
       "    <tr>\n",
       "      <th>0</th>\n",
       "      <td>-4110354420726924665</td>\n",
       "      <td>4340306774493623681</td>\n",
       "      <td>SP</td>\n",
       "      <td>BR</td>\n",
       "      <td>HTML</td>\n",
       "      <td>http://www.nytimes.com/2016/03/28/business/dea...</td>\n",
       "      <td>Ethereum, a Virtual Currency, Enables Transact...</td>\n",
       "      <td>All of this work is still very early. The firs...</td>\n",
       "      <td>en</td>\n",
       "      <td>55570811.0</td>\n",
       "    </tr>\n",
       "    <tr>\n",
       "      <th>1</th>\n",
       "      <td>-7292285110016212249</td>\n",
       "      <td>4340306774493623681</td>\n",
       "      <td>SP</td>\n",
       "      <td>BR</td>\n",
       "      <td>HTML</td>\n",
       "      <td>http://cointelegraph.com/news/bitcoin-future-w...</td>\n",
       "      <td>Bitcoin Future: When GBPcoin of Branson Wins O...</td>\n",
       "      <td>The alarm clock wakes me at 8:00 with stream o...</td>\n",
       "      <td>en</td>\n",
       "      <td>55570653.0</td>\n",
       "    </tr>\n",
       "    <tr>\n",
       "      <th>2</th>\n",
       "      <td>-6151852268067518688</td>\n",
       "      <td>3891637997717104548</td>\n",
       "      <td>SP</td>\n",
       "      <td>BR</td>\n",
       "      <td>HTML</td>\n",
       "      <td>https://cloudplatform.googleblog.com/2016/03/G...</td>\n",
       "      <td>Google Data Center 360° Tour</td>\n",
       "      <td>We're excited to share the Google Data Center ...</td>\n",
       "      <td>en</td>\n",
       "      <td>55570325.0</td>\n",
       "    </tr>\n",
       "    <tr>\n",
       "      <th>3</th>\n",
       "      <td>2448026894306402386</td>\n",
       "      <td>4340306774493623681</td>\n",
       "      <td>SP</td>\n",
       "      <td>BR</td>\n",
       "      <td>HTML</td>\n",
       "      <td>https://bitcoinmagazine.com/articles/ibm-wants...</td>\n",
       "      <td>IBM Wants to \"Evolve the Internet\" With Blockc...</td>\n",
       "      <td>The Aite Group projects the blockchain market ...</td>\n",
       "      <td>en</td>\n",
       "      <td>55570302.0</td>\n",
       "    </tr>\n",
       "    <tr>\n",
       "      <th>4</th>\n",
       "      <td>-2826566343807132236</td>\n",
       "      <td>4340306774493623681</td>\n",
       "      <td>SP</td>\n",
       "      <td>BR</td>\n",
       "      <td>HTML</td>\n",
       "      <td>http://www.coindesk.com/ieee-blockchain-oxford...</td>\n",
       "      <td>IEEE to Talk Blockchain at Cloud Computing Oxf...</td>\n",
       "      <td>One of the largest and oldest organizations fo...</td>\n",
       "      <td>en</td>\n",
       "      <td>55570277.0</td>\n",
       "    </tr>\n",
       "  </tbody>\n",
       "</table>\n",
       "</div>"
      ],
      "text/plain": [
       "             contentId       authorPersonId authorRegion authorCountry  \\\n",
       "0 -4110354420726924665  4340306774493623681           SP            BR   \n",
       "1 -7292285110016212249  4340306774493623681           SP            BR   \n",
       "2 -6151852268067518688  3891637997717104548           SP            BR   \n",
       "3  2448026894306402386  4340306774493623681           SP            BR   \n",
       "4 -2826566343807132236  4340306774493623681           SP            BR   \n",
       "\n",
       "  contentType                                                url  \\\n",
       "0        HTML  http://www.nytimes.com/2016/03/28/business/dea...   \n",
       "1        HTML  http://cointelegraph.com/news/bitcoin-future-w...   \n",
       "2        HTML  https://cloudplatform.googleblog.com/2016/03/G...   \n",
       "3        HTML  https://bitcoinmagazine.com/articles/ibm-wants...   \n",
       "4        HTML  http://www.coindesk.com/ieee-blockchain-oxford...   \n",
       "\n",
       "                                               title  \\\n",
       "0  Ethereum, a Virtual Currency, Enables Transact...   \n",
       "1  Bitcoin Future: When GBPcoin of Branson Wins O...   \n",
       "2                       Google Data Center 360° Tour   \n",
       "3  IBM Wants to \"Evolve the Internet\" With Blockc...   \n",
       "4  IEEE to Talk Blockchain at Cloud Computing Oxf...   \n",
       "\n",
       "                                                text lang  timeOnPlatform  \n",
       "0  All of this work is still very early. The firs...   en      55570811.0  \n",
       "1  The alarm clock wakes me at 8:00 with stream o...   en      55570653.0  \n",
       "2  We're excited to share the Google Data Center ...   en      55570325.0  \n",
       "3  The Aite Group projects the blockchain market ...   en      55570302.0  \n",
       "4  One of the largest and oldest organizations fo...   en      55570277.0  "
      ]
     },
     "execution_count": 16,
     "metadata": {},
     "output_type": "execute_result"
    }
   ],
   "source": [
    "join_df.head()"
   ]
  },
  {
   "cell_type": "markdown",
   "metadata": {},
   "source": [
    "It is possible that articles from a particular domain are more likely to go viral than some others. For this, I am going to extract the domain from the URL column and store it in another column called \"urlDomain\"."
   ]
  },
  {
   "cell_type": "code",
   "execution_count": 17,
   "metadata": {},
   "outputs": [],
   "source": [
    "# Creating function to return domain name\n",
    "\n",
    "def get_domain(row):\n",
    "    domain_name = urlparse(row['url']).netloc\n",
    "    return(domain_name)"
   ]
  },
  {
   "cell_type": "code",
   "execution_count": 18,
   "metadata": {},
   "outputs": [
    {
     "data": {
      "text/html": [
       "<div>\n",
       "<style scoped>\n",
       "    .dataframe tbody tr th:only-of-type {\n",
       "        vertical-align: middle;\n",
       "    }\n",
       "\n",
       "    .dataframe tbody tr th {\n",
       "        vertical-align: top;\n",
       "    }\n",
       "\n",
       "    .dataframe thead th {\n",
       "        text-align: right;\n",
       "    }\n",
       "</style>\n",
       "<table border=\"1\" class=\"dataframe\">\n",
       "  <thead>\n",
       "    <tr style=\"text-align: right;\">\n",
       "      <th></th>\n",
       "      <th>contentId</th>\n",
       "      <th>authorPersonId</th>\n",
       "      <th>authorRegion</th>\n",
       "      <th>authorCountry</th>\n",
       "      <th>contentType</th>\n",
       "      <th>url</th>\n",
       "      <th>title</th>\n",
       "      <th>text</th>\n",
       "      <th>lang</th>\n",
       "      <th>timeOnPlatform</th>\n",
       "      <th>urlDomain</th>\n",
       "    </tr>\n",
       "  </thead>\n",
       "  <tbody>\n",
       "    <tr>\n",
       "      <th>0</th>\n",
       "      <td>-4110354420726924665</td>\n",
       "      <td>4340306774493623681</td>\n",
       "      <td>SP</td>\n",
       "      <td>BR</td>\n",
       "      <td>HTML</td>\n",
       "      <td>http://www.nytimes.com/2016/03/28/business/dea...</td>\n",
       "      <td>Ethereum, a Virtual Currency, Enables Transact...</td>\n",
       "      <td>All of this work is still very early. The firs...</td>\n",
       "      <td>en</td>\n",
       "      <td>55570811.0</td>\n",
       "      <td>www.nytimes.com</td>\n",
       "    </tr>\n",
       "    <tr>\n",
       "      <th>1</th>\n",
       "      <td>-7292285110016212249</td>\n",
       "      <td>4340306774493623681</td>\n",
       "      <td>SP</td>\n",
       "      <td>BR</td>\n",
       "      <td>HTML</td>\n",
       "      <td>http://cointelegraph.com/news/bitcoin-future-w...</td>\n",
       "      <td>Bitcoin Future: When GBPcoin of Branson Wins O...</td>\n",
       "      <td>The alarm clock wakes me at 8:00 with stream o...</td>\n",
       "      <td>en</td>\n",
       "      <td>55570653.0</td>\n",
       "      <td>cointelegraph.com</td>\n",
       "    </tr>\n",
       "    <tr>\n",
       "      <th>2</th>\n",
       "      <td>-6151852268067518688</td>\n",
       "      <td>3891637997717104548</td>\n",
       "      <td>SP</td>\n",
       "      <td>BR</td>\n",
       "      <td>HTML</td>\n",
       "      <td>https://cloudplatform.googleblog.com/2016/03/G...</td>\n",
       "      <td>Google Data Center 360° Tour</td>\n",
       "      <td>We're excited to share the Google Data Center ...</td>\n",
       "      <td>en</td>\n",
       "      <td>55570325.0</td>\n",
       "      <td>cloudplatform.googleblog.com</td>\n",
       "    </tr>\n",
       "    <tr>\n",
       "      <th>3</th>\n",
       "      <td>2448026894306402386</td>\n",
       "      <td>4340306774493623681</td>\n",
       "      <td>SP</td>\n",
       "      <td>BR</td>\n",
       "      <td>HTML</td>\n",
       "      <td>https://bitcoinmagazine.com/articles/ibm-wants...</td>\n",
       "      <td>IBM Wants to \"Evolve the Internet\" With Blockc...</td>\n",
       "      <td>The Aite Group projects the blockchain market ...</td>\n",
       "      <td>en</td>\n",
       "      <td>55570302.0</td>\n",
       "      <td>bitcoinmagazine.com</td>\n",
       "    </tr>\n",
       "    <tr>\n",
       "      <th>4</th>\n",
       "      <td>-2826566343807132236</td>\n",
       "      <td>4340306774493623681</td>\n",
       "      <td>SP</td>\n",
       "      <td>BR</td>\n",
       "      <td>HTML</td>\n",
       "      <td>http://www.coindesk.com/ieee-blockchain-oxford...</td>\n",
       "      <td>IEEE to Talk Blockchain at Cloud Computing Oxf...</td>\n",
       "      <td>One of the largest and oldest organizations fo...</td>\n",
       "      <td>en</td>\n",
       "      <td>55570277.0</td>\n",
       "      <td>www.coindesk.com</td>\n",
       "    </tr>\n",
       "  </tbody>\n",
       "</table>\n",
       "</div>"
      ],
      "text/plain": [
       "             contentId       authorPersonId authorRegion authorCountry  \\\n",
       "0 -4110354420726924665  4340306774493623681           SP            BR   \n",
       "1 -7292285110016212249  4340306774493623681           SP            BR   \n",
       "2 -6151852268067518688  3891637997717104548           SP            BR   \n",
       "3  2448026894306402386  4340306774493623681           SP            BR   \n",
       "4 -2826566343807132236  4340306774493623681           SP            BR   \n",
       "\n",
       "  contentType                                                url  \\\n",
       "0        HTML  http://www.nytimes.com/2016/03/28/business/dea...   \n",
       "1        HTML  http://cointelegraph.com/news/bitcoin-future-w...   \n",
       "2        HTML  https://cloudplatform.googleblog.com/2016/03/G...   \n",
       "3        HTML  https://bitcoinmagazine.com/articles/ibm-wants...   \n",
       "4        HTML  http://www.coindesk.com/ieee-blockchain-oxford...   \n",
       "\n",
       "                                               title  \\\n",
       "0  Ethereum, a Virtual Currency, Enables Transact...   \n",
       "1  Bitcoin Future: When GBPcoin of Branson Wins O...   \n",
       "2                       Google Data Center 360° Tour   \n",
       "3  IBM Wants to \"Evolve the Internet\" With Blockc...   \n",
       "4  IEEE to Talk Blockchain at Cloud Computing Oxf...   \n",
       "\n",
       "                                                text lang  timeOnPlatform  \\\n",
       "0  All of this work is still very early. The firs...   en      55570811.0   \n",
       "1  The alarm clock wakes me at 8:00 with stream o...   en      55570653.0   \n",
       "2  We're excited to share the Google Data Center ...   en      55570325.0   \n",
       "3  The Aite Group projects the blockchain market ...   en      55570302.0   \n",
       "4  One of the largest and oldest organizations fo...   en      55570277.0   \n",
       "\n",
       "                      urlDomain  \n",
       "0               www.nytimes.com  \n",
       "1             cointelegraph.com  \n",
       "2  cloudplatform.googleblog.com  \n",
       "3           bitcoinmagazine.com  \n",
       "4              www.coindesk.com  "
      ]
     },
     "execution_count": 18,
     "metadata": {},
     "output_type": "execute_result"
    }
   ],
   "source": [
    "# Creating urlDomain column\n",
    "\n",
    "join_df['urlDomain'] = join_df.apply(lambda row: get_domain(row), axis=1)\n",
    "\n",
    "join_df.head()"
   ]
  },
  {
   "cell_type": "code",
   "execution_count": 19,
   "metadata": {},
   "outputs": [
    {
     "data": {
      "text/plain": [
       "1045"
      ]
     },
     "execution_count": 19,
     "metadata": {},
     "output_type": "execute_result"
    }
   ],
   "source": [
    "join_df['urlDomain'].nunique()"
   ]
  },
  {
   "cell_type": "markdown",
   "metadata": {},
   "source": [
    "For running regression models, it is better to replace categorical values with one-hot encoding. This has been done for:\n",
    "- lang\n",
    "- contentType\n",
    "- authorRegion\n",
    "- authorCountry\n",
    "- urlDomain"
   ]
  },
  {
   "cell_type": "code",
   "execution_count": 20,
   "metadata": {},
   "outputs": [],
   "source": [
    "#  performing one hot encoding\n",
    "\n",
    "join_df = pd.get_dummies(join_df, columns=['lang', 'contentType', 'authorRegion', 'authorCountry', 'urlDomain'], \n",
    "                         prefix=['lang', 'content', 'authorRegion', 'authorCountry', 'urlDomain'])"
   ]
  },
  {
   "cell_type": "code",
   "execution_count": 21,
   "metadata": {},
   "outputs": [
    {
     "data": {
      "text/plain": [
       "Index(['contentId', 'authorPersonId', 'url', 'title', 'text', 'timeOnPlatform',\n",
       "       'lang_en', 'lang_es', 'lang_ja', 'lang_la',\n",
       "       ...\n",
       "       'urlDomain_www.zivtech.com', 'urlDomain_www.ztop.com.br',\n",
       "       'urlDomain_www1.folha.uol.com.br', 'urlDomain_www1.valor.com.br',\n",
       "       'urlDomain_www2.deloitte.com', 'urlDomain_www2.portalnovidade.com.br',\n",
       "       'urlDomain_xamarinbr.azurewebsites.net',\n",
       "       'urlDomain_xorcatt.wordpress.com', 'urlDomain_zeroturnaround.com',\n",
       "       'urlDomain_zoocha.com'],\n",
       "      dtype='object', length=1083)"
      ]
     },
     "execution_count": 21,
     "metadata": {},
     "output_type": "execute_result"
    }
   ],
   "source": [
    "join_df.columns"
   ]
  },
  {
   "cell_type": "markdown",
   "metadata": {},
   "source": [
    "Now, I will process the User Interactions Dataframe and get the number of bookmarks, comments, likes, follows and views each article has. I will also create a column called interactions which will have the total number of interactions that each article has i.e. sum of all user interactions for the article."
   ]
  },
  {
   "cell_type": "code",
   "execution_count": 22,
   "metadata": {},
   "outputs": [],
   "source": [
    "# Getting number of bookmarks, comments, likes, follows and views per article\n",
    "\n",
    "interactions_per_article = user_interactions_df.groupby(['contentId','eventType'])['timestamp'].count().reset_index()\n",
    "interactions_per_article = interactions_per_article.pivot_table(index='contentId', columns='eventType', values='timestamp')"
   ]
  },
  {
   "cell_type": "code",
   "execution_count": 23,
   "metadata": {},
   "outputs": [
    {
     "data": {
      "text/html": [
       "<div>\n",
       "<style scoped>\n",
       "    .dataframe tbody tr th:only-of-type {\n",
       "        vertical-align: middle;\n",
       "    }\n",
       "\n",
       "    .dataframe tbody tr th {\n",
       "        vertical-align: top;\n",
       "    }\n",
       "\n",
       "    .dataframe thead th {\n",
       "        text-align: right;\n",
       "    }\n",
       "</style>\n",
       "<table border=\"1\" class=\"dataframe\">\n",
       "  <thead>\n",
       "    <tr style=\"text-align: right;\">\n",
       "      <th>eventType</th>\n",
       "      <th>BOOKMARK</th>\n",
       "      <th>COMMENT CREATED</th>\n",
       "      <th>FOLLOW</th>\n",
       "      <th>LIKE</th>\n",
       "      <th>VIEW</th>\n",
       "    </tr>\n",
       "    <tr>\n",
       "      <th>contentId</th>\n",
       "      <th></th>\n",
       "      <th></th>\n",
       "      <th></th>\n",
       "      <th></th>\n",
       "      <th></th>\n",
       "    </tr>\n",
       "  </thead>\n",
       "  <tbody>\n",
       "    <tr>\n",
       "      <th>-9222795471790223670</th>\n",
       "      <td>1.0</td>\n",
       "      <td>2.0</td>\n",
       "      <td>3.0</td>\n",
       "      <td>4.0</td>\n",
       "      <td>16.0</td>\n",
       "    </tr>\n",
       "    <tr>\n",
       "      <th>-9216926795620865886</th>\n",
       "      <td>1.0</td>\n",
       "      <td>1.0</td>\n",
       "      <td>1.0</td>\n",
       "      <td>3.0</td>\n",
       "      <td>15.0</td>\n",
       "    </tr>\n",
       "    <tr>\n",
       "      <th>-9194572880052200111</th>\n",
       "      <td>2.0</td>\n",
       "      <td>1.0</td>\n",
       "      <td>1.0</td>\n",
       "      <td>4.0</td>\n",
       "      <td>21.0</td>\n",
       "    </tr>\n",
       "    <tr>\n",
       "      <th>-9192549002213406534</th>\n",
       "      <td>0.0</td>\n",
       "      <td>1.0</td>\n",
       "      <td>0.0</td>\n",
       "      <td>5.0</td>\n",
       "      <td>50.0</td>\n",
       "    </tr>\n",
       "    <tr>\n",
       "      <th>-9190737901804729417</th>\n",
       "      <td>0.0</td>\n",
       "      <td>0.0</td>\n",
       "      <td>0.0</td>\n",
       "      <td>1.0</td>\n",
       "      <td>8.0</td>\n",
       "    </tr>\n",
       "  </tbody>\n",
       "</table>\n",
       "</div>"
      ],
      "text/plain": [
       "eventType             BOOKMARK  COMMENT CREATED  FOLLOW  LIKE  VIEW\n",
       "contentId                                                          \n",
       "-9222795471790223670       1.0              2.0     3.0   4.0  16.0\n",
       "-9216926795620865886       1.0              1.0     1.0   3.0  15.0\n",
       "-9194572880052200111       2.0              1.0     1.0   4.0  21.0\n",
       "-9192549002213406534       0.0              1.0     0.0   5.0  50.0\n",
       "-9190737901804729417       0.0              0.0     0.0   1.0   8.0"
      ]
     },
     "execution_count": 23,
     "metadata": {},
     "output_type": "execute_result"
    }
   ],
   "source": [
    "# Fill all NaN values with 0\n",
    "\n",
    "interactions_per_article.fillna(0, inplace=True)\n",
    "interactions_per_article.head()"
   ]
  },
  {
   "cell_type": "code",
   "execution_count": 24,
   "metadata": {},
   "outputs": [
    {
     "data": {
      "text/html": [
       "<div>\n",
       "<style scoped>\n",
       "    .dataframe tbody tr th:only-of-type {\n",
       "        vertical-align: middle;\n",
       "    }\n",
       "\n",
       "    .dataframe tbody tr th {\n",
       "        vertical-align: top;\n",
       "    }\n",
       "\n",
       "    .dataframe thead th {\n",
       "        text-align: right;\n",
       "    }\n",
       "</style>\n",
       "<table border=\"1\" class=\"dataframe\">\n",
       "  <thead>\n",
       "    <tr style=\"text-align: right;\">\n",
       "      <th>eventType</th>\n",
       "      <th>BOOKMARK</th>\n",
       "      <th>COMMENT CREATED</th>\n",
       "      <th>FOLLOW</th>\n",
       "      <th>LIKE</th>\n",
       "      <th>VIEW</th>\n",
       "      <th>Interactions</th>\n",
       "    </tr>\n",
       "    <tr>\n",
       "      <th>contentId</th>\n",
       "      <th></th>\n",
       "      <th></th>\n",
       "      <th></th>\n",
       "      <th></th>\n",
       "      <th></th>\n",
       "      <th></th>\n",
       "    </tr>\n",
       "  </thead>\n",
       "  <tbody>\n",
       "    <tr>\n",
       "      <th>-9222795471790223670</th>\n",
       "      <td>1.0</td>\n",
       "      <td>2.0</td>\n",
       "      <td>3.0</td>\n",
       "      <td>4.0</td>\n",
       "      <td>16.0</td>\n",
       "      <td>26.0</td>\n",
       "    </tr>\n",
       "    <tr>\n",
       "      <th>-9216926795620865886</th>\n",
       "      <td>1.0</td>\n",
       "      <td>1.0</td>\n",
       "      <td>1.0</td>\n",
       "      <td>3.0</td>\n",
       "      <td>15.0</td>\n",
       "      <td>21.0</td>\n",
       "    </tr>\n",
       "    <tr>\n",
       "      <th>-9194572880052200111</th>\n",
       "      <td>2.0</td>\n",
       "      <td>1.0</td>\n",
       "      <td>1.0</td>\n",
       "      <td>4.0</td>\n",
       "      <td>21.0</td>\n",
       "      <td>29.0</td>\n",
       "    </tr>\n",
       "    <tr>\n",
       "      <th>-9192549002213406534</th>\n",
       "      <td>0.0</td>\n",
       "      <td>1.0</td>\n",
       "      <td>0.0</td>\n",
       "      <td>5.0</td>\n",
       "      <td>50.0</td>\n",
       "      <td>56.0</td>\n",
       "    </tr>\n",
       "    <tr>\n",
       "      <th>-9190737901804729417</th>\n",
       "      <td>0.0</td>\n",
       "      <td>0.0</td>\n",
       "      <td>0.0</td>\n",
       "      <td>1.0</td>\n",
       "      <td>8.0</td>\n",
       "      <td>9.0</td>\n",
       "    </tr>\n",
       "  </tbody>\n",
       "</table>\n",
       "</div>"
      ],
      "text/plain": [
       "eventType             BOOKMARK  COMMENT CREATED  FOLLOW  LIKE  VIEW  \\\n",
       "contentId                                                             \n",
       "-9222795471790223670       1.0              2.0     3.0   4.0  16.0   \n",
       "-9216926795620865886       1.0              1.0     1.0   3.0  15.0   \n",
       "-9194572880052200111       2.0              1.0     1.0   4.0  21.0   \n",
       "-9192549002213406534       0.0              1.0     0.0   5.0  50.0   \n",
       "-9190737901804729417       0.0              0.0     0.0   1.0   8.0   \n",
       "\n",
       "eventType             Interactions  \n",
       "contentId                           \n",
       "-9222795471790223670          26.0  \n",
       "-9216926795620865886          21.0  \n",
       "-9194572880052200111          29.0  \n",
       "-9192549002213406534          56.0  \n",
       "-9190737901804729417           9.0  "
      ]
     },
     "execution_count": 24,
     "metadata": {},
     "output_type": "execute_result"
    }
   ],
   "source": [
    "# Creating Interactions column\n",
    "\n",
    "interactions_per_article['Interactions'] = interactions_per_article['BOOKMARK'] + interactions_per_article['COMMENT CREATED'] + interactions_per_article['FOLLOW'] + interactions_per_article['LIKE'] + interactions_per_article['VIEW']\n",
    "interactions_per_article.head()"
   ]
  },
  {
   "cell_type": "markdown",
   "metadata": {},
   "source": [
    "To train the model, we need the ground truth label values. For this, I will use the formula given:\n",
    "\n",
    "VIRALITY = 1 * VIEW + 4 * LIKE + 10 * COMMENT + 25 * FOLLOW + 100 * BOOKMARK"
   ]
  },
  {
   "cell_type": "code",
   "execution_count": 25,
   "metadata": {},
   "outputs": [
    {
     "data": {
      "text/html": [
       "<div>\n",
       "<style scoped>\n",
       "    .dataframe tbody tr th:only-of-type {\n",
       "        vertical-align: middle;\n",
       "    }\n",
       "\n",
       "    .dataframe tbody tr th {\n",
       "        vertical-align: top;\n",
       "    }\n",
       "\n",
       "    .dataframe thead th {\n",
       "        text-align: right;\n",
       "    }\n",
       "</style>\n",
       "<table border=\"1\" class=\"dataframe\">\n",
       "  <thead>\n",
       "    <tr style=\"text-align: right;\">\n",
       "      <th>eventType</th>\n",
       "      <th>BOOKMARK</th>\n",
       "      <th>COMMENT CREATED</th>\n",
       "      <th>FOLLOW</th>\n",
       "      <th>LIKE</th>\n",
       "      <th>VIEW</th>\n",
       "      <th>Interactions</th>\n",
       "      <th>VIRALITY</th>\n",
       "    </tr>\n",
       "    <tr>\n",
       "      <th>contentId</th>\n",
       "      <th></th>\n",
       "      <th></th>\n",
       "      <th></th>\n",
       "      <th></th>\n",
       "      <th></th>\n",
       "      <th></th>\n",
       "      <th></th>\n",
       "    </tr>\n",
       "  </thead>\n",
       "  <tbody>\n",
       "    <tr>\n",
       "      <th>-9222795471790223670</th>\n",
       "      <td>1.0</td>\n",
       "      <td>2.0</td>\n",
       "      <td>3.0</td>\n",
       "      <td>4.0</td>\n",
       "      <td>16.0</td>\n",
       "      <td>26.0</td>\n",
       "      <td>227.0</td>\n",
       "    </tr>\n",
       "    <tr>\n",
       "      <th>-9216926795620865886</th>\n",
       "      <td>1.0</td>\n",
       "      <td>1.0</td>\n",
       "      <td>1.0</td>\n",
       "      <td>3.0</td>\n",
       "      <td>15.0</td>\n",
       "      <td>21.0</td>\n",
       "      <td>162.0</td>\n",
       "    </tr>\n",
       "    <tr>\n",
       "      <th>-9194572880052200111</th>\n",
       "      <td>2.0</td>\n",
       "      <td>1.0</td>\n",
       "      <td>1.0</td>\n",
       "      <td>4.0</td>\n",
       "      <td>21.0</td>\n",
       "      <td>29.0</td>\n",
       "      <td>272.0</td>\n",
       "    </tr>\n",
       "    <tr>\n",
       "      <th>-9192549002213406534</th>\n",
       "      <td>0.0</td>\n",
       "      <td>1.0</td>\n",
       "      <td>0.0</td>\n",
       "      <td>5.0</td>\n",
       "      <td>50.0</td>\n",
       "      <td>56.0</td>\n",
       "      <td>80.0</td>\n",
       "    </tr>\n",
       "    <tr>\n",
       "      <th>-9190737901804729417</th>\n",
       "      <td>0.0</td>\n",
       "      <td>0.0</td>\n",
       "      <td>0.0</td>\n",
       "      <td>1.0</td>\n",
       "      <td>8.0</td>\n",
       "      <td>9.0</td>\n",
       "      <td>12.0</td>\n",
       "    </tr>\n",
       "  </tbody>\n",
       "</table>\n",
       "</div>"
      ],
      "text/plain": [
       "eventType             BOOKMARK  COMMENT CREATED  FOLLOW  LIKE  VIEW  \\\n",
       "contentId                                                             \n",
       "-9222795471790223670       1.0              2.0     3.0   4.0  16.0   \n",
       "-9216926795620865886       1.0              1.0     1.0   3.0  15.0   \n",
       "-9194572880052200111       2.0              1.0     1.0   4.0  21.0   \n",
       "-9192549002213406534       0.0              1.0     0.0   5.0  50.0   \n",
       "-9190737901804729417       0.0              0.0     0.0   1.0   8.0   \n",
       "\n",
       "eventType             Interactions  VIRALITY  \n",
       "contentId                                     \n",
       "-9222795471790223670          26.0     227.0  \n",
       "-9216926795620865886          21.0     162.0  \n",
       "-9194572880052200111          29.0     272.0  \n",
       "-9192549002213406534          56.0      80.0  \n",
       "-9190737901804729417           9.0      12.0  "
      ]
     },
     "execution_count": 25,
     "metadata": {},
     "output_type": "execute_result"
    }
   ],
   "source": [
    "# Creating ground truth labels\n",
    "\n",
    "interactions_per_article['VIRALITY'] = 100*interactions_per_article['BOOKMARK'] + 10*interactions_per_article['COMMENT CREATED'] + 25*interactions_per_article['FOLLOW'] + 4*interactions_per_article['LIKE'] + interactions_per_article['VIEW']\n",
    "interactions_per_article.head()"
   ]
  },
  {
   "cell_type": "code",
   "execution_count": 26,
   "metadata": {},
   "outputs": [
    {
     "data": {
      "text/html": [
       "<div>\n",
       "<style scoped>\n",
       "    .dataframe tbody tr th:only-of-type {\n",
       "        vertical-align: middle;\n",
       "    }\n",
       "\n",
       "    .dataframe tbody tr th {\n",
       "        vertical-align: top;\n",
       "    }\n",
       "\n",
       "    .dataframe thead th {\n",
       "        text-align: right;\n",
       "    }\n",
       "</style>\n",
       "<table border=\"1\" class=\"dataframe\">\n",
       "  <thead>\n",
       "    <tr style=\"text-align: right;\">\n",
       "      <th>eventType</th>\n",
       "      <th>contentId</th>\n",
       "      <th>BOOKMARK</th>\n",
       "      <th>COMMENT CREATED</th>\n",
       "      <th>FOLLOW</th>\n",
       "      <th>LIKE</th>\n",
       "      <th>VIEW</th>\n",
       "      <th>Interactions</th>\n",
       "      <th>VIRALITY</th>\n",
       "    </tr>\n",
       "  </thead>\n",
       "  <tbody>\n",
       "    <tr>\n",
       "      <th>0</th>\n",
       "      <td>-9222795471790223670</td>\n",
       "      <td>1.0</td>\n",
       "      <td>2.0</td>\n",
       "      <td>3.0</td>\n",
       "      <td>4.0</td>\n",
       "      <td>16.0</td>\n",
       "      <td>26.0</td>\n",
       "      <td>227.0</td>\n",
       "    </tr>\n",
       "    <tr>\n",
       "      <th>1</th>\n",
       "      <td>-9216926795620865886</td>\n",
       "      <td>1.0</td>\n",
       "      <td>1.0</td>\n",
       "      <td>1.0</td>\n",
       "      <td>3.0</td>\n",
       "      <td>15.0</td>\n",
       "      <td>21.0</td>\n",
       "      <td>162.0</td>\n",
       "    </tr>\n",
       "    <tr>\n",
       "      <th>2</th>\n",
       "      <td>-9194572880052200111</td>\n",
       "      <td>2.0</td>\n",
       "      <td>1.0</td>\n",
       "      <td>1.0</td>\n",
       "      <td>4.0</td>\n",
       "      <td>21.0</td>\n",
       "      <td>29.0</td>\n",
       "      <td>272.0</td>\n",
       "    </tr>\n",
       "    <tr>\n",
       "      <th>3</th>\n",
       "      <td>-9192549002213406534</td>\n",
       "      <td>0.0</td>\n",
       "      <td>1.0</td>\n",
       "      <td>0.0</td>\n",
       "      <td>5.0</td>\n",
       "      <td>50.0</td>\n",
       "      <td>56.0</td>\n",
       "      <td>80.0</td>\n",
       "    </tr>\n",
       "    <tr>\n",
       "      <th>4</th>\n",
       "      <td>-9190737901804729417</td>\n",
       "      <td>0.0</td>\n",
       "      <td>0.0</td>\n",
       "      <td>0.0</td>\n",
       "      <td>1.0</td>\n",
       "      <td>8.0</td>\n",
       "      <td>9.0</td>\n",
       "      <td>12.0</td>\n",
       "    </tr>\n",
       "  </tbody>\n",
       "</table>\n",
       "</div>"
      ],
      "text/plain": [
       "eventType            contentId  BOOKMARK  COMMENT CREATED  FOLLOW  LIKE  VIEW  \\\n",
       "0         -9222795471790223670       1.0              2.0     3.0   4.0  16.0   \n",
       "1         -9216926795620865886       1.0              1.0     1.0   3.0  15.0   \n",
       "2         -9194572880052200111       2.0              1.0     1.0   4.0  21.0   \n",
       "3         -9192549002213406534       0.0              1.0     0.0   5.0  50.0   \n",
       "4         -9190737901804729417       0.0              0.0     0.0   1.0   8.0   \n",
       "\n",
       "eventType  Interactions  VIRALITY  \n",
       "0                  26.0     227.0  \n",
       "1                  21.0     162.0  \n",
       "2                  29.0     272.0  \n",
       "3                  56.0      80.0  \n",
       "4                   9.0      12.0  "
      ]
     },
     "execution_count": 26,
     "metadata": {},
     "output_type": "execute_result"
    }
   ],
   "source": [
    "# Creating contentID column from Index\n",
    "\n",
    "interactions_per_article = interactions_per_article.reset_index()\n",
    "interactions_per_article.head()"
   ]
  },
  {
   "cell_type": "code",
   "execution_count": 27,
   "metadata": {},
   "outputs": [],
   "source": [
    "# Joining both processed dataframes\n",
    "\n",
    "processed_df = join_df.merge(interactions_per_article, how='inner', on='contentId')"
   ]
  },
  {
   "cell_type": "code",
   "execution_count": 28,
   "metadata": {},
   "outputs": [
    {
     "name": "stdout",
     "output_type": "stream",
     "text": [
      "2980\n"
     ]
    },
    {
     "data": {
      "text/plain": [
       "Index(['contentId', 'authorPersonId', 'url', 'title', 'text', 'timeOnPlatform',\n",
       "       'lang_en', 'lang_es', 'lang_ja', 'lang_la',\n",
       "       ...\n",
       "       'urlDomain_xorcatt.wordpress.com', 'urlDomain_zeroturnaround.com',\n",
       "       'urlDomain_zoocha.com', 'BOOKMARK', 'COMMENT CREATED', 'FOLLOW', 'LIKE',\n",
       "       'VIEW', 'Interactions', 'VIRALITY'],\n",
       "      dtype='object', length=1090)"
      ]
     },
     "execution_count": 28,
     "metadata": {},
     "output_type": "execute_result"
    }
   ],
   "source": [
    "print(len(processed_df))\n",
    "processed_df.columns"
   ]
  },
  {
   "cell_type": "code",
   "execution_count": 29,
   "metadata": {},
   "outputs": [],
   "source": [
    "# Dropping columns that will not be used for modeling\n",
    "\n",
    "model_df = processed_df.drop(columns=['contentId', 'authorPersonId', 'url', 'title', 'text'], inplace=False)"
   ]
  },
  {
   "cell_type": "code",
   "execution_count": 30,
   "metadata": {},
   "outputs": [
    {
     "data": {
      "text/plain": [
       "Index(['timeOnPlatform', 'lang_en', 'lang_es', 'lang_ja', 'lang_la', 'lang_pt',\n",
       "       'content_HTML', 'content_RICH', 'content_VIDEO', 'authorRegion_13',\n",
       "       ...\n",
       "       'urlDomain_xorcatt.wordpress.com', 'urlDomain_zeroturnaround.com',\n",
       "       'urlDomain_zoocha.com', 'BOOKMARK', 'COMMENT CREATED', 'FOLLOW', 'LIKE',\n",
       "       'VIEW', 'Interactions', 'VIRALITY'],\n",
       "      dtype='object', length=1085)"
      ]
     },
     "execution_count": 30,
     "metadata": {},
     "output_type": "execute_result"
    }
   ],
   "source": [
    "model_df.columns"
   ]
  },
  {
   "cell_type": "markdown",
   "metadata": {},
   "source": [
    "## Models"
   ]
  },
  {
   "cell_type": "markdown",
   "metadata": {},
   "source": [
    "### Splitting into Train and Test sets"
   ]
  },
  {
   "cell_type": "code",
   "execution_count": 31,
   "metadata": {},
   "outputs": [],
   "source": [
    "train, test = train_test_split(model_df, test_size=0.2)"
   ]
  },
  {
   "cell_type": "markdown",
   "metadata": {},
   "source": [
    "### Principal Component Analysis for Dimensionality Reduction"
   ]
  },
  {
   "cell_type": "code",
   "execution_count": 32,
   "metadata": {},
   "outputs": [
    {
     "name": "stderr",
     "output_type": "stream",
     "text": [
      "c:\\users\\sanjk\\appdata\\local\\programs\\python\\python37\\lib\\site-packages\\ipykernel_launcher.py:6: SettingWithCopyWarning: \n",
      "A value is trying to be set on a copy of a slice from a DataFrame.\n",
      "Try using .loc[row_indexer,col_indexer] = value instead\n",
      "\n",
      "See the caveats in the documentation: http://pandas.pydata.org/pandas-docs/stable/indexing.html#indexing-view-versus-copy\n",
      "  \n",
      "c:\\users\\sanjk\\appdata\\local\\programs\\python\\python37\\lib\\site-packages\\pandas\\core\\indexing.py:543: SettingWithCopyWarning: \n",
      "A value is trying to be set on a copy of a slice from a DataFrame.\n",
      "Try using .loc[row_indexer,col_indexer] = value instead\n",
      "\n",
      "See the caveats in the documentation: http://pandas.pydata.org/pandas-docs/stable/indexing.html#indexing-view-versus-copy\n",
      "  self.obj[item] = s\n",
      "c:\\users\\sanjk\\appdata\\local\\programs\\python\\python37\\lib\\site-packages\\ipykernel_launcher.py:7: SettingWithCopyWarning: \n",
      "A value is trying to be set on a copy of a slice from a DataFrame.\n",
      "Try using .loc[row_indexer,col_indexer] = value instead\n",
      "\n",
      "See the caveats in the documentation: http://pandas.pydata.org/pandas-docs/stable/indexing.html#indexing-view-versus-copy\n",
      "  import sys\n",
      "c:\\users\\sanjk\\appdata\\local\\programs\\python\\python37\\lib\\site-packages\\pandas\\core\\indexing.py:543: SettingWithCopyWarning: \n",
      "A value is trying to be set on a copy of a slice from a DataFrame.\n",
      "Try using .loc[row_indexer,col_indexer] = value instead\n",
      "\n",
      "See the caveats in the documentation: http://pandas.pydata.org/pandas-docs/stable/indexing.html#indexing-view-versus-copy\n",
      "  self.obj[item] = s\n"
     ]
    },
    {
     "data": {
      "text/html": [
       "<div>\n",
       "<style scoped>\n",
       "    .dataframe tbody tr th:only-of-type {\n",
       "        vertical-align: middle;\n",
       "    }\n",
       "\n",
       "    .dataframe tbody tr th {\n",
       "        vertical-align: top;\n",
       "    }\n",
       "\n",
       "    .dataframe thead th {\n",
       "        text-align: right;\n",
       "    }\n",
       "</style>\n",
       "<table border=\"1\" class=\"dataframe\">\n",
       "  <thead>\n",
       "    <tr style=\"text-align: right;\">\n",
       "      <th></th>\n",
       "      <th>timeOnPlatform</th>\n",
       "      <th>lang_en</th>\n",
       "      <th>lang_es</th>\n",
       "      <th>lang_ja</th>\n",
       "      <th>lang_la</th>\n",
       "      <th>lang_pt</th>\n",
       "      <th>content_HTML</th>\n",
       "      <th>content_RICH</th>\n",
       "      <th>content_VIDEO</th>\n",
       "      <th>authorRegion_13</th>\n",
       "      <th>...</th>\n",
       "      <th>urlDomain_xorcatt.wordpress.com</th>\n",
       "      <th>urlDomain_zeroturnaround.com</th>\n",
       "      <th>urlDomain_zoocha.com</th>\n",
       "      <th>BOOKMARK</th>\n",
       "      <th>COMMENT CREATED</th>\n",
       "      <th>FOLLOW</th>\n",
       "      <th>LIKE</th>\n",
       "      <th>VIEW</th>\n",
       "      <th>Interactions</th>\n",
       "      <th>VIRALITY</th>\n",
       "    </tr>\n",
       "  </thead>\n",
       "  <tbody>\n",
       "    <tr>\n",
       "      <th>2046</th>\n",
       "      <td>-0.210625</td>\n",
       "      <td>1</td>\n",
       "      <td>0</td>\n",
       "      <td>0</td>\n",
       "      <td>0</td>\n",
       "      <td>0</td>\n",
       "      <td>1</td>\n",
       "      <td>0</td>\n",
       "      <td>0</td>\n",
       "      <td>0</td>\n",
       "      <td>...</td>\n",
       "      <td>0</td>\n",
       "      <td>0</td>\n",
       "      <td>0</td>\n",
       "      <td>1.301384</td>\n",
       "      <td>0.387996</td>\n",
       "      <td>0.515491</td>\n",
       "      <td>0.642745</td>\n",
       "      <td>0.846188</td>\n",
       "      <td>0.880492</td>\n",
       "      <td>394.0</td>\n",
       "    </tr>\n",
       "    <tr>\n",
       "      <th>1735</th>\n",
       "      <td>0.068761</td>\n",
       "      <td>1</td>\n",
       "      <td>0</td>\n",
       "      <td>0</td>\n",
       "      <td>0</td>\n",
       "      <td>0</td>\n",
       "      <td>1</td>\n",
       "      <td>0</td>\n",
       "      <td>0</td>\n",
       "      <td>0</td>\n",
       "      <td>...</td>\n",
       "      <td>0</td>\n",
       "      <td>0</td>\n",
       "      <td>0</td>\n",
       "      <td>-0.471811</td>\n",
       "      <td>-0.424104</td>\n",
       "      <td>-0.441620</td>\n",
       "      <td>-0.580651</td>\n",
       "      <td>-0.647979</td>\n",
       "      <td>-0.661871</td>\n",
       "      <td>3.0</td>\n",
       "    </tr>\n",
       "    <tr>\n",
       "      <th>789</th>\n",
       "      <td>0.707891</td>\n",
       "      <td>0</td>\n",
       "      <td>0</td>\n",
       "      <td>0</td>\n",
       "      <td>0</td>\n",
       "      <td>1</td>\n",
       "      <td>1</td>\n",
       "      <td>0</td>\n",
       "      <td>0</td>\n",
       "      <td>0</td>\n",
       "      <td>...</td>\n",
       "      <td>0</td>\n",
       "      <td>0</td>\n",
       "      <td>0</td>\n",
       "      <td>-0.471811</td>\n",
       "      <td>1.200096</td>\n",
       "      <td>-0.441620</td>\n",
       "      <td>1.254443</td>\n",
       "      <td>0.173813</td>\n",
       "      <td>0.282433</td>\n",
       "      <td>69.0</td>\n",
       "    </tr>\n",
       "    <tr>\n",
       "      <th>2724</th>\n",
       "      <td>-1.175482</td>\n",
       "      <td>1</td>\n",
       "      <td>0</td>\n",
       "      <td>0</td>\n",
       "      <td>0</td>\n",
       "      <td>0</td>\n",
       "      <td>1</td>\n",
       "      <td>0</td>\n",
       "      <td>0</td>\n",
       "      <td>0</td>\n",
       "      <td>...</td>\n",
       "      <td>0</td>\n",
       "      <td>0</td>\n",
       "      <td>0</td>\n",
       "      <td>0.119254</td>\n",
       "      <td>2.012197</td>\n",
       "      <td>2.429711</td>\n",
       "      <td>2.171990</td>\n",
       "      <td>1.369147</td>\n",
       "      <td>1.541504</td>\n",
       "      <td>298.0</td>\n",
       "    </tr>\n",
       "    <tr>\n",
       "      <th>1685</th>\n",
       "      <td>0.133289</td>\n",
       "      <td>1</td>\n",
       "      <td>0</td>\n",
       "      <td>0</td>\n",
       "      <td>0</td>\n",
       "      <td>0</td>\n",
       "      <td>1</td>\n",
       "      <td>0</td>\n",
       "      <td>0</td>\n",
       "      <td>0</td>\n",
       "      <td>...</td>\n",
       "      <td>0</td>\n",
       "      <td>0</td>\n",
       "      <td>0</td>\n",
       "      <td>-0.471811</td>\n",
       "      <td>0.387996</td>\n",
       "      <td>0.515491</td>\n",
       "      <td>-0.274802</td>\n",
       "      <td>-0.685333</td>\n",
       "      <td>-0.598917</td>\n",
       "      <td>41.0</td>\n",
       "    </tr>\n",
       "  </tbody>\n",
       "</table>\n",
       "<p>5 rows × 1085 columns</p>\n",
       "</div>"
      ],
      "text/plain": [
       "      timeOnPlatform  lang_en  lang_es  lang_ja  lang_la  lang_pt  \\\n",
       "2046       -0.210625        1        0        0        0        0   \n",
       "1735        0.068761        1        0        0        0        0   \n",
       "789         0.707891        0        0        0        0        1   \n",
       "2724       -1.175482        1        0        0        0        0   \n",
       "1685        0.133289        1        0        0        0        0   \n",
       "\n",
       "      content_HTML  content_RICH  content_VIDEO  authorRegion_13    ...     \\\n",
       "2046             1             0              0                0    ...      \n",
       "1735             1             0              0                0    ...      \n",
       "789              1             0              0                0    ...      \n",
       "2724             1             0              0                0    ...      \n",
       "1685             1             0              0                0    ...      \n",
       "\n",
       "      urlDomain_xorcatt.wordpress.com  urlDomain_zeroturnaround.com  \\\n",
       "2046                                0                             0   \n",
       "1735                                0                             0   \n",
       "789                                 0                             0   \n",
       "2724                                0                             0   \n",
       "1685                                0                             0   \n",
       "\n",
       "      urlDomain_zoocha.com  BOOKMARK  COMMENT CREATED    FOLLOW      LIKE  \\\n",
       "2046                     0  1.301384         0.387996  0.515491  0.642745   \n",
       "1735                     0 -0.471811        -0.424104 -0.441620 -0.580651   \n",
       "789                      0 -0.471811         1.200096 -0.441620  1.254443   \n",
       "2724                     0  0.119254         2.012197  2.429711  2.171990   \n",
       "1685                     0 -0.471811         0.387996  0.515491 -0.274802   \n",
       "\n",
       "          VIEW  Interactions  VIRALITY  \n",
       "2046  0.846188      0.880492     394.0  \n",
       "1735 -0.647979     -0.661871       3.0  \n",
       "789   0.173813      0.282433      69.0  \n",
       "2724  1.369147      1.541504     298.0  \n",
       "1685 -0.685333     -0.598917      41.0  \n",
       "\n",
       "[5 rows x 1085 columns]"
      ]
     },
     "execution_count": 32,
     "metadata": {},
     "output_type": "execute_result"
    }
   ],
   "source": [
    "# Normalizing non categorical data\n",
    "\n",
    "numerical_col = ['timeOnPlatform', 'BOOKMARK', 'COMMENT CREATED', 'FOLLOW', 'LIKE', 'VIEW', 'Interactions']\n",
    "scaler = StandardScaler()\n",
    "scaler.fit(train[numerical_col])\n",
    "train[numerical_col] = scaler.transform(train[numerical_col])\n",
    "test[numerical_col] = scaler.transform(test[numerical_col])\n",
    "train.head()"
   ]
  },
  {
   "cell_type": "code",
   "execution_count": 33,
   "metadata": {},
   "outputs": [],
   "source": [
    "# Separating out the features\n",
    "\n",
    "train_x = train.drop(columns=['VIRALITY'], inplace=False)\n",
    "train_x = train_x.loc[:,:].values\n",
    "test_x = test.drop(columns=['VIRALITY'], inplace=False)\n",
    "test_x = test_x.loc[:,:].values\n",
    "\n",
    "# Separating out the target\n",
    "\n",
    "train_y = train.loc[:,['VIRALITY']].values\n",
    "test_y = test.loc[:,['VIRALITY']].values"
   ]
  },
  {
   "cell_type": "code",
   "execution_count": 34,
   "metadata": {},
   "outputs": [
    {
     "data": {
      "text/plain": [
       "Text(0, 0.5, 'cumulative explained variance')"
      ]
     },
     "execution_count": 34,
     "metadata": {},
     "output_type": "execute_result"
    },
    {
     "data": {
      "image/png": "[encoded data removed]",
      "text/plain": [
       "<Figure size 432x288 with 1 Axes>"
      ]
     },
     "metadata": {
      "needs_background": "light"
     },
     "output_type": "display_data"
    }
   ],
   "source": [
    "# Choosing number of components\n",
    "\n",
    "pca = PCA().fit(train_x)\n",
    "plt.plot(np.cumsum(pca.explained_variance_ratio_))\n",
    "plt.xlabel('number of components')\n",
    "plt.ylabel('cumulative explained variance')"
   ]
  },
  {
   "cell_type": "markdown",
   "metadata": {},
   "source": [
    "It seems that around 120 components explain over 95% of the variance."
   ]
  },
  {
   "cell_type": "code",
   "execution_count": 35,
   "metadata": {},
   "outputs": [
    {
     "data": {
      "text/plain": [
       "123"
      ]
     },
     "execution_count": 35,
     "metadata": {},
     "output_type": "execute_result"
    }
   ],
   "source": [
    "pca = PCA(0.95).fit(train_x)\n",
    "pca.n_components_"
   ]
  },
  {
   "cell_type": "code",
   "execution_count": 36,
   "metadata": {},
   "outputs": [],
   "source": [
    "# Applying PCA mapping to train and test sets\n",
    "\n",
    "train_x = pca.transform(train_x)\n",
    "test_x = pca.transform(test_x)"
   ]
  },
  {
   "cell_type": "markdown",
   "metadata": {},
   "source": [
    "### K Fold Cross Validation"
   ]
  },
  {
   "cell_type": "code",
   "execution_count": 37,
   "metadata": {},
   "outputs": [
    {
     "data": {
      "text/plain": [
       "10"
      ]
     },
     "execution_count": 37,
     "metadata": {},
     "output_type": "execute_result"
    }
   ],
   "source": [
    "kf = KFold(n_splits = 10) # Define the split - into 2 folds \n",
    "kf.get_n_splits(train_x)"
   ]
  },
  {
   "cell_type": "markdown",
   "metadata": {},
   "source": [
    "### Lasso Regression"
   ]
  },
  {
   "cell_type": "code",
   "execution_count": 38,
   "metadata": {},
   "outputs": [
    {
     "name": "stderr",
     "output_type": "stream",
     "text": [
      "c:\\users\\sanjk\\appdata\\local\\programs\\python\\python37\\lib\\site-packages\\sklearn\\utils\\validation.py:72: DataConversionWarning: A column-vector y was passed when a 1d array was expected. Please change the shape of y to (n_samples, ), for example using ravel().\n",
      "  return f(**kwargs)\n"
     ]
    }
   ],
   "source": [
    "# Training Lasso model\n",
    "\n",
    "reg = LassoCV(cv=10, random_state=0).fit(train_x, train_y)"
   ]
  },
  {
   "cell_type": "code",
   "execution_count": 39,
   "metadata": {},
   "outputs": [],
   "source": [
    "pred_y = reg.predict(test_x)"
   ]
  },
  {
   "cell_type": "code",
   "execution_count": 40,
   "metadata": {},
   "outputs": [
    {
     "name": "stdout",
     "output_type": "stream",
     "text": [
      "11.467318753297876\n",
      "0.9999265929963578\n"
     ]
    }
   ],
   "source": [
    "# Find test accuracy\n",
    "\n",
    "print(mean_squared_error(test_y, pred_y))\n",
    "print(r2_score(test_y, pred_y))"
   ]
  },
  {
   "cell_type": "code",
   "execution_count": null,
   "metadata": {},
   "outputs": [],
   "source": []
  }
 ],
 "metadata": {
  "kernelspec": {
   "display_name": "Python 3",
   "language": "python",
   "name": "python3"
  },
  "language_info": {
   "codemirror_mode": {
    "name": "ipython",
    "version": 3
   },
   "file_extension": ".py",
   "mimetype": "text/x-python",
   "name": "python",
   "nbconvert_exporter": "python",
   "pygments_lexer": "ipython3",
   "version": "3.7.2"
  }
 },
 "nbformat": 4,
 "nbformat_minor": 4
}
